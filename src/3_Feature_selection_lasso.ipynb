{
 "cells": [
  {
   "cell_type": "markdown",
   "metadata": {},
   "source": [
    "# Building your First Machine Learning Model: Using Lasso as a Feature Selection Technique"
   ]
  },
  {
   "cell_type": "code",
   "execution_count": null,
   "metadata": {},
   "outputs": [],
   "source": [
    "# Install the necessary libraries\n",
    "%pip install numpy pandas scikit-learn statsmodels faraway"
   ]
  },
  {
   "cell_type": "code",
   "execution_count": 7,
   "metadata": {},
   "outputs": [],
   "source": [
    "import numpy as np\n",
    "import pandas as pd\n",
    "import matplotlib.pyplot as plt\n",
    "\n",
    "from sklearn.model_selection import train_test_split\n",
    "from sklearn.linear_model import Lasso, LinearRegression\n",
    "from sklearn.model_selection import train_test_split, GridSearchCV\n",
    "from sklearn.preprocessing import StandardScaler\n",
    "from sklearn.metrics import mean_squared_error, r2_score\n",
    "\n",
    "import faraway.datasets.ozone as ozone"
   ]
  },
  {
   "cell_type": "code",
   "execution_count": 8,
   "metadata": {},
   "outputs": [
    {
     "name": "stdout",
     "output_type": "stream",
     "text": [
      "   O3    vh  wind  humidity  temp   ibh  dpg  ibt  vis  doy\n",
      "0   3  5710     4        28    40  2693  -25   87  250   33\n",
      "1   5  5700     3        37    45   590  -24  128  100   34\n",
      "2   5  5760     3        51    54  1450   25  139   60   35\n",
      "3   6  5720     4        69    35  1568   15  121   60   36\n",
      "4   4  5790     6        19    45  2631  -33  123  100   37\n"
     ]
    }
   ],
   "source": [
    "# Load the ozone dataset\n",
    "ozone_data = ozone.load()\n",
    "\n",
    "# Inspect the first few rows to understand the structure\n",
    "print(ozone_data.head())"
   ]
  },
  {
   "cell_type": "code",
   "execution_count": 9,
   "metadata": {},
   "outputs": [],
   "source": [
    "# Define the features (X) and target (y)\n",
    "X = ozone_data.drop(columns=['O3'])\n",
    "y = ozone_data['O3']\n",
    "\n",
    "# Standardize the features\n",
    "scaler = StandardScaler()\n",
    "X_scaled = scaler.fit_transform(X)\n",
    "\n",
    "# Split the data\n",
    "X_train, X_test, y_train, y_test = train_test_split(X_scaled, y, test_size=0.2, random_state=123)"
   ]
  },
  {
   "cell_type": "markdown",
   "metadata": {},
   "source": [
    "## Base Model"
   ]
  },
  {
   "cell_type": "code",
   "execution_count": 10,
   "metadata": {},
   "outputs": [
    {
     "data": {
      "text/html": [
       "<div>\n",
       "<style scoped>\n",
       "    .dataframe tbody tr th:only-of-type {\n",
       "        vertical-align: middle;\n",
       "    }\n",
       "\n",
       "    .dataframe tbody tr th {\n",
       "        vertical-align: top;\n",
       "    }\n",
       "\n",
       "    .dataframe thead th {\n",
       "        text-align: right;\n",
       "    }\n",
       "</style>\n",
       "<table border=\"1\" class=\"dataframe\">\n",
       "  <thead>\n",
       "    <tr style=\"text-align: right;\">\n",
       "      <th></th>\n",
       "      <th>R-squared</th>\n",
       "      <th>Adjusted R-squared</th>\n",
       "      <th>MSE</th>\n",
       "    </tr>\n",
       "  </thead>\n",
       "  <tbody>\n",
       "    <tr>\n",
       "      <th>Base Model</th>\n",
       "      <td>0.722092</td>\n",
       "      <td>0.677429</td>\n",
       "      <td>17.670801</td>\n",
       "    </tr>\n",
       "  </tbody>\n",
       "</table>\n",
       "</div>"
      ],
      "text/plain": [
       "            R-squared  Adjusted R-squared        MSE\n",
       "Base Model   0.722092            0.677429  17.670801"
      ]
     },
     "metadata": {},
     "output_type": "display_data"
    }
   ],
   "source": [
    "# Initialize the linear regression model\n",
    "model = LinearRegression()\n",
    "\n",
    "# Fit the model on the training data\n",
    "model.fit(X_train, y_train)\n",
    "\n",
    "# Make predictions on the test set\n",
    "y_pred_base_model = model.predict(X_test)\n",
    "\n",
    "# Calculate metrics\n",
    "r_squared = r2_score(y_test, y_pred_base_model)\n",
    "n = len(y_test)\n",
    "p = X_test.shape[1]\n",
    "adjusted_r_squared = 1 - (1 - r_squared) * (n - 1) / (n - p - 1)\n",
    "\n",
    "# Create a DataFrame to display results\n",
    "data = {\n",
    "    'R-squared': [r_squared],\n",
    "    'Adjusted R-squared': [adjusted_r_squared],\n",
    "    'MSE': [mean_squared_error(y_test, y_pred_base_model)]\n",
    "}\n",
    "df_base_model = pd.DataFrame(data, index=['Base Model'])\n",
    "\n",
    "# Display the DataFrame\n",
    "display(df_base_model)"
   ]
  },
  {
   "cell_type": "markdown",
   "metadata": {},
   "source": [
    "## Lasso Feature Selection"
   ]
  },
  {
   "cell_type": "code",
   "execution_count": 11,
   "metadata": {},
   "outputs": [
    {
     "name": "stdout",
     "output_type": "stream",
     "text": [
      "Best alpha: 0.1\n"
     ]
    }
   ],
   "source": [
    "\n",
    "# Set up the Lasso model with cross-validation to tune alpha\n",
    "lasso = Lasso()\n",
    "\n",
    "# Set up GridSearchCV to tune alpha\n",
    "param_grid = {'alpha': [0.0001, 0.0005, 0.001, 0.005, 0.01, 0.05, 0.1]}\n",
    "grid_search = GridSearchCV(Lasso(), param_grid, cv=5)\n",
    "grid_search.fit(X_train, y_train)\n",
    "best_alpha = grid_search.best_params_['alpha']\n",
    "\n",
    "print(f\"Best alpha: {best_alpha}\")"
   ]
  },
  {
   "cell_type": "code",
   "execution_count": 12,
   "metadata": {},
   "outputs": [
    {
     "name": "stdout",
     "output_type": "stream",
     "text": [
      "Selected features: \n",
      "Index(['humidity', 'temp', 'ibh', 'ibt', 'vis', 'doy'], dtype='object')\n"
     ]
    }
   ],
   "source": [
    "# Refit the Lasso model with the best alpha\n",
    "lasso = Lasso(alpha=best_alpha)\n",
    "lasso.fit(X_train, y_train)\n",
    "\n",
    "# Get the coefficients of the features\n",
    "coefficients = pd.Series(lasso.coef_, index=ozone_data.drop(columns=['O3']).columns)\n",
    "\n",
    "# Filter out features with zero coefficients\n",
    "selected_features = coefficients[coefficients != 0].index\n",
    "print(f\"Selected features: \\n{selected_features}\")\n"
   ]
  },
  {
   "cell_type": "code",
   "execution_count": 14,
   "metadata": {},
   "outputs": [
    {
     "data": {
      "text/html": [
       "<div>\n",
       "<style scoped>\n",
       "    .dataframe tbody tr th:only-of-type {\n",
       "        vertical-align: middle;\n",
       "    }\n",
       "\n",
       "    .dataframe tbody tr th {\n",
       "        vertical-align: top;\n",
       "    }\n",
       "\n",
       "    .dataframe thead th {\n",
       "        text-align: right;\n",
       "    }\n",
       "</style>\n",
       "<table border=\"1\" class=\"dataframe\">\n",
       "  <thead>\n",
       "    <tr style=\"text-align: right;\">\n",
       "      <th></th>\n",
       "      <th>R-squared</th>\n",
       "      <th>Adjusted R-squared</th>\n",
       "      <th>MSE</th>\n",
       "    </tr>\n",
       "  </thead>\n",
       "  <tbody>\n",
       "    <tr>\n",
       "      <th>Lasso Feature Selection</th>\n",
       "      <td>0.724843</td>\n",
       "      <td>0.680622</td>\n",
       "      <td>17.495881</td>\n",
       "    </tr>\n",
       "  </tbody>\n",
       "</table>\n",
       "</div>"
      ],
      "text/plain": [
       "                         R-squared  Adjusted R-squared        MSE\n",
       "Lasso Feature Selection   0.724843            0.680622  17.495881"
      ]
     },
     "metadata": {},
     "output_type": "display_data"
    }
   ],
   "source": [
    "# Train a classification model using the selected features\n",
    "X_train_selected = X_train[:, coefficients != 0]\n",
    "X_test_selected = X_test[:, coefficients != 0]\n",
    "\n",
    "# Logistic Regression for classification\n",
    "log_reg = LinearRegression()\n",
    "log_reg.fit(X_train_selected, y_train)\n",
    "\n",
    "# Predict on the test set\n",
    "y_pred_lasso = log_reg.predict(X_test_selected)\n",
    "\n",
    "# Calculate metrics\n",
    "r_squared = r2_score(y_test, y_pred_lasso)\n",
    "n = len(y_test)\n",
    "p = X_test.shape[1]\n",
    "adjusted_r_squared = 1 - (1 - r_squared) * (n - 1) / (n - p - 1)\n",
    "\n",
    "# Create a DataFrame to display results\n",
    "data = {\n",
    "    'R-squared': [r_squared],\n",
    "    'Adjusted R-squared': [adjusted_r_squared],\n",
    "    'MSE': [mean_squared_error(y_test, y_pred_lasso)]\n",
    "}\n",
    "lasso_metrics_df = pd.DataFrame(data, index=['Lasso Feature Selection'])\n",
    "\n",
    "# Display the DataFrame\n",
    "display(lasso_metrics_df)\n"
   ]
  },
  {
   "cell_type": "code",
   "execution_count": 15,
   "metadata": {},
   "outputs": [
    {
     "data": {
      "text/html": [
       "<div>\n",
       "<style scoped>\n",
       "    .dataframe tbody tr th:only-of-type {\n",
       "        vertical-align: middle;\n",
       "    }\n",
       "\n",
       "    .dataframe tbody tr th {\n",
       "        vertical-align: top;\n",
       "    }\n",
       "\n",
       "    .dataframe thead th {\n",
       "        text-align: right;\n",
       "    }\n",
       "</style>\n",
       "<table border=\"1\" class=\"dataframe\">\n",
       "  <thead>\n",
       "    <tr style=\"text-align: right;\">\n",
       "      <th></th>\n",
       "      <th>R-squared</th>\n",
       "      <th>Adjusted R-squared</th>\n",
       "      <th>MSE</th>\n",
       "    </tr>\n",
       "  </thead>\n",
       "  <tbody>\n",
       "    <tr>\n",
       "      <th>Base Model</th>\n",
       "      <td>0.722092</td>\n",
       "      <td>0.677429</td>\n",
       "      <td>17.670801</td>\n",
       "    </tr>\n",
       "    <tr>\n",
       "      <th>Lasso Feature Selection</th>\n",
       "      <td>0.724843</td>\n",
       "      <td>0.680622</td>\n",
       "      <td>17.495881</td>\n",
       "    </tr>\n",
       "  </tbody>\n",
       "</table>\n",
       "</div>"
      ],
      "text/plain": [
       "                         R-squared  Adjusted R-squared        MSE\n",
       "Base Model                0.722092            0.677429  17.670801\n",
       "Lasso Feature Selection   0.724843            0.680622  17.495881"
      ]
     },
     "metadata": {},
     "output_type": "display_data"
    }
   ],
   "source": [
    "df = pd.concat([df_base_model, lasso_metrics_df])\n",
    "\n",
    "display(df)"
   ]
  }
 ],
 "metadata": {
  "kernelspec": {
   "display_name": "Python 3",
   "language": "python",
   "name": "python3"
  },
  "language_info": {
   "codemirror_mode": {
    "name": "ipython",
    "version": 3
   },
   "file_extension": ".py",
   "mimetype": "text/x-python",
   "name": "python",
   "nbconvert_exporter": "python",
   "pygments_lexer": "ipython3",
   "version": "3.12.2"
  }
 },
 "nbformat": 4,
 "nbformat_minor": 2
}
