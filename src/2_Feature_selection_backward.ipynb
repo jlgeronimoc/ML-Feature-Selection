{
 "cells": [
  {
   "cell_type": "markdown",
   "metadata": {},
   "source": [
    "# Building Your First Machine Learning Model: A Complete Guide to Backward Stepwise Feature Selection"
   ]
  },
  {
   "cell_type": "code",
   "execution_count": null,
   "metadata": {},
   "outputs": [],
   "source": [
    "# Install the necessary libraries\n",
    "%pip install numpy pandas scikit-learn statsmodels faraway"
   ]
  },
  {
   "cell_type": "markdown",
   "metadata": {},
   "source": [
    "## Ozone dataset"
   ]
  },
  {
   "cell_type": "markdown",
   "metadata": {},
   "source": [
    "### Import Libraries"
   ]
  },
  {
   "cell_type": "code",
   "execution_count": 1,
   "metadata": {},
   "outputs": [],
   "source": [
    "# Import essential libraries\n",
    "import pandas as pd\n",
    "import statsmodels.api as sm\n",
    "from sklearn.metrics import mean_squared_error, r2_score\n",
    "from sklearn.model_selection import train_test_split\n",
    "from sklearn.feature_selection import SequentialFeatureSelector\n",
    "from sklearn.linear_model import LinearRegression\n",
    "\n",
    "# Import dataset\n",
    "import faraway.datasets.ozone as ozone\n",
    "\n",
    "from typing import List, Tuple"
   ]
  },
  {
   "cell_type": "markdown",
   "metadata": {},
   "source": [
    "### Base model"
   ]
  },
  {
   "cell_type": "code",
   "execution_count": 2,
   "metadata": {},
   "outputs": [
    {
     "data": {
      "text/html": [
       "<div>\n",
       "<style scoped>\n",
       "    .dataframe tbody tr th:only-of-type {\n",
       "        vertical-align: middle;\n",
       "    }\n",
       "\n",
       "    .dataframe tbody tr th {\n",
       "        vertical-align: top;\n",
       "    }\n",
       "\n",
       "    .dataframe thead th {\n",
       "        text-align: right;\n",
       "    }\n",
       "</style>\n",
       "<table border=\"1\" class=\"dataframe\">\n",
       "  <thead>\n",
       "    <tr style=\"text-align: right;\">\n",
       "      <th></th>\n",
       "      <th>R-squared</th>\n",
       "      <th>Adjusted R-squared</th>\n",
       "      <th>MSE</th>\n",
       "    </tr>\n",
       "  </thead>\n",
       "  <tbody>\n",
       "    <tr>\n",
       "      <th>Base</th>\n",
       "      <td>0.693848</td>\n",
       "      <td>0.683</td>\n",
       "      <td>17.670801</td>\n",
       "    </tr>\n",
       "  </tbody>\n",
       "</table>\n",
       "</div>"
      ],
      "text/plain": [
       "      R-squared  Adjusted R-squared        MSE\n",
       "Base   0.693848               0.683  17.670801"
      ]
     },
     "metadata": {},
     "output_type": "display_data"
    }
   ],
   "source": [
    "# Load the Ozone dataset\n",
    "data = ozone.load()\n",
    "\n",
    "# Separate features (X) and the target variable (y)\n",
    "X = data.drop(columns=['O3'])\n",
    "y = data['O3']\n",
    "\n",
    "# Split data\n",
    "X_train, X_test, y_train, y_test = train_test_split(X, y, test_size=0.2, random_state=123)\n",
    "\n",
    "# Add constant term for intercept\n",
    "X_train_const = sm.add_constant(X_train)\n",
    "X_test_const = sm.add_constant(X_test)\n",
    "\n",
    "# Fit OLS model\n",
    "base_model = sm.OLS(y_train, X_train_const).fit()\n",
    "\n",
    "# Predict on test set\n",
    "y_pred = base_model.predict(X_test_const)\n",
    "\n",
    "# Create DataFrame to store the results\n",
    "results_base_model = pd.DataFrame({\n",
    "    \"R-squared\": [base_model.rsquared],\n",
    "    \"Adjusted R-squared\": [base_model.rsquared_adj],\n",
    "    \"MSE\": [mean_squared_error(y_test, y_pred)]\n",
    "}, index=[\"Base\"])\n",
    "\n",
    "display(results_base_model)"
   ]
  },
  {
   "cell_type": "markdown",
   "metadata": {},
   "source": [
    "### Backward stepwise"
   ]
  },
  {
   "cell_type": "code",
   "execution_count": 3,
   "metadata": {},
   "outputs": [],
   "source": [
    "def backward_stepwise_selection(X_train:pd.DataFrame, y_train:pd.Series) -> Tuple[int, sm.OLS, List[str]]:\n",
    "    \"\"\"\n",
    "    Perform backward stepwise selection to maximize Adjusted R-squared using OLS.\n",
    "    \n",
    "    Parameters:\n",
    "    X_train (pd.DataFrame): The training data with features.\n",
    "    y_train (pd.Series or pd.DataFrame): The target variable.\n",
    "\n",
    "    Returns:\n",
    "    tuple: Best Adjusted R-squared, best model, and the list of selected variables.\n",
    "    \"\"\"\n",
    "    \n",
    "    def calculate_adjusted_r2(X, y):\n",
    "        model_OLS = sm.OLS(y, X).fit()\n",
    "        return model_OLS.rsquared_adj, model_OLS\n",
    "\n",
    "    # Initialize the set of all variables\n",
    "    selected_vars = list(X_train.columns)\n",
    "    \n",
    "    # Calculate model using all features\n",
    "    best_adj_r2, best_model = calculate_adjusted_r2(X_train[selected_vars], y_train)\n",
    "    \n",
    "    # Backward Stepwise process: Remove variables one at a time\n",
    "    while len(selected_vars) > 1:\n",
    "        adj_r2_with_candidates = []\n",
    "        \n",
    "        # Try removing each variable one by one\n",
    "        for candidate in selected_vars:\n",
    "            remaining_vars = [var for var in selected_vars if var != candidate]\n",
    "            adj_r2, model = calculate_adjusted_r2(X_train[remaining_vars], y_train)\n",
    "            adj_r2_with_candidates.append((adj_r2, candidate, model))\n",
    "        \n",
    "        # Sort and select the best candidate to remove (highest Adjusted R-squared)\n",
    "        adj_r2_with_candidates.sort(reverse=True, key=lambda x: x[0])  # Sort in descending order\n",
    "        best_new_adj_r2, worst_var, best_new_model = adj_r2_with_candidates[0]\n",
    "        \n",
    "        # If removing a variable improves adjusted R-squared, update the model\n",
    "        if best_new_adj_r2 > best_adj_r2:\n",
    "            selected_vars.remove(worst_var)\n",
    "            best_adj_r2 = best_new_adj_r2\n",
    "            best_model = best_new_model\n",
    "        else:\n",
    "            break\n",
    "    \n",
    "    return best_adj_r2, best_model, selected_vars"
   ]
  },
  {
   "cell_type": "code",
   "execution_count": 4,
   "metadata": {},
   "outputs": [
    {
     "name": "stdout",
     "output_type": "stream",
     "text": [
      "Selected Features: ['vh', 'humidity', 'temp', 'ibt', 'vis', 'doy']\n"
     ]
    },
    {
     "data": {
      "text/html": [
       "<div>\n",
       "<style scoped>\n",
       "    .dataframe tbody tr th:only-of-type {\n",
       "        vertical-align: middle;\n",
       "    }\n",
       "\n",
       "    .dataframe tbody tr th {\n",
       "        vertical-align: top;\n",
       "    }\n",
       "\n",
       "    .dataframe thead th {\n",
       "        text-align: right;\n",
       "    }\n",
       "</style>\n",
       "<table border=\"1\" class=\"dataframe\">\n",
       "  <thead>\n",
       "    <tr style=\"text-align: right;\">\n",
       "      <th></th>\n",
       "      <th>R-squared</th>\n",
       "      <th>Adjusted R-squared</th>\n",
       "      <th>MSE</th>\n",
       "    </tr>\n",
       "  </thead>\n",
       "  <tbody>\n",
       "    <tr>\n",
       "      <th>Backward Stepwise</th>\n",
       "      <td>0.905241</td>\n",
       "      <td>0.903038</td>\n",
       "      <td>17.658749</td>\n",
       "    </tr>\n",
       "  </tbody>\n",
       "</table>\n",
       "</div>"
      ],
      "text/plain": [
       "                   R-squared  Adjusted R-squared        MSE\n",
       "Backward Stepwise   0.905241            0.903038  17.658749"
      ]
     },
     "metadata": {},
     "output_type": "display_data"
    }
   ],
   "source": [
    "# Backward stepwise selection\n",
    "best_adj_r2, best_model, selected_features = backward_stepwise_selection(X_train_const, y_train)\n",
    "print(\"Selected Features:\", selected_features)\n",
    "\n",
    "# Predict on test set using the selected features\n",
    "X_test_selected = X_test_const[selected_features]\n",
    "y_pred = best_model.predict(X_test_selected)\n",
    "\n",
    "# Calculate metrics\n",
    "mse = mean_squared_error(y_test, y_pred)\n",
    "\n",
    "results_backward = pd.DataFrame({\n",
    "    \"R-squared\": [best_model.rsquared],\n",
    "    \"Adjusted R-squared\": [best_model.rsquared_adj],\n",
    "    \"MSE\": [mse]\n",
    "}, index=[\"Backward Stepwise\"])\n",
    "\n",
    "display(results_backward)"
   ]
  },
  {
   "cell_type": "code",
   "execution_count": 5,
   "metadata": {},
   "outputs": [
    {
     "name": "stdout",
     "output_type": "stream",
     "text": [
      "Selected features: Index(['vh', 'humidity', 'temp', 'ibt', 'doy'], dtype='object')\n"
     ]
    },
    {
     "data": {
      "text/html": [
       "<div>\n",
       "<style scoped>\n",
       "    .dataframe tbody tr th:only-of-type {\n",
       "        vertical-align: middle;\n",
       "    }\n",
       "\n",
       "    .dataframe tbody tr th {\n",
       "        vertical-align: top;\n",
       "    }\n",
       "\n",
       "    .dataframe thead th {\n",
       "        text-align: right;\n",
       "    }\n",
       "</style>\n",
       "<table border=\"1\" class=\"dataframe\">\n",
       "  <thead>\n",
       "    <tr style=\"text-align: right;\">\n",
       "      <th></th>\n",
       "      <th>R-squared</th>\n",
       "      <th>Adjusted R-squared</th>\n",
       "      <th>MSE</th>\n",
       "    </tr>\n",
       "  </thead>\n",
       "  <tbody>\n",
       "    <tr>\n",
       "      <th>Backward Stepwise</th>\n",
       "      <td>0.7108</td>\n",
       "      <td>0.6867</td>\n",
       "      <td>18.388855</td>\n",
       "    </tr>\n",
       "  </tbody>\n",
       "</table>\n",
       "</div>"
      ],
      "text/plain": [
       "                   R-squared  Adjusted R-squared        MSE\n",
       "Backward Stepwise     0.7108              0.6867  18.388855"
      ]
     },
     "metadata": {},
     "output_type": "display_data"
    }
   ],
   "source": [
    "# Backward Stepwise Feature Selection\n",
    "model = LinearRegression()\n",
    "# There's no adjusted r2 as scoring, so we will use r2\n",
    "forward_selector = SequentialFeatureSelector(model, direction='backward', scoring='r2')\n",
    "# We don't add constant since LinearRegression() does this by default\n",
    "forward_selector.fit(X_train, y_train)\n",
    "\n",
    "# Get the selected features\n",
    "selected_features = X_train.columns[forward_selector.get_support()]\n",
    "print(f'Selected features: {selected_features}')\n",
    "\n",
    "# Fit the model with selected features\n",
    "X_train_selected = X_train[selected_features]\n",
    "X_test_selected = X_test[selected_features]\n",
    "\n",
    "model.fit(X_train_selected, y_train)\n",
    "\n",
    "# Predict using the selected features\n",
    "y_pred = model.predict(X_test_selected)\n",
    "\n",
    "# Calculate metrics\n",
    "r_squared = r2_score(y_test, y_pred)\n",
    "n = len(y_test)\n",
    "p = X_test_selected.shape[1]\n",
    "adjusted_r_squared = 1 - (1 - r_squared) * (n - 1) / (n - p - 1)\n",
    "\n",
    "# Create a DataFrame to display results\n",
    "data = {\n",
    "    'R-squared': [r_squared],\n",
    "    'Adjusted R-squared': [adjusted_r_squared],\n",
    "    'MSE': [mean_squared_error(y_test, y_pred)]\n",
    "}\n",
    "df = pd.DataFrame(data, index=['Backward Stepwise'])\n",
    "\n",
    "# Display the DataFrame\n",
    "display(df)"
   ]
  },
  {
   "cell_type": "markdown",
   "metadata": {},
   "source": [
    "### Forward Stepwise"
   ]
  },
  {
   "cell_type": "code",
   "execution_count": 11,
   "metadata": {},
   "outputs": [],
   "source": [
    "def forward_stepwise_selection(X_train:pd.DataFrame, y_train:pd.DataFrame, initial_sig_vars:list=None):\n",
    "    \"\"\"\n",
    "    Perform forward stepwise selection to maximize Adjusted R-squared.\n",
    "    \n",
    "    Parameters:\n",
    "    X_train (pd.DataFrame): The training data with features.\n",
    "    y_train (pd.Series or pd.DataFrame): The target variable.\n",
    "    initial_sig_vars (list): A list of initial significant features to start with.\n",
    "\n",
    "    Returns:\n",
    "    tuple: Best Adjusted R-squared, best model, and the list of selected variables.\n",
    "    \"\"\"\n",
    "    \n",
    "    # Define a function to calculate Adjusted R-squared for a given set of features\n",
    "    def calculate_adjusted_r2(X, y):\n",
    "        model_OLS = sm.OLS(y, X).fit()\n",
    "        return model_OLS.rsquared_adj, model_OLS\n",
    "    \n",
    "    # Select only the significant features for the initial model\n",
    "    if initial_sig_vars is not None and len(initial_sig_vars) != 0 : \n",
    "        X_train_significant_features = X_train[initial_sig_vars]\n",
    "    else:\n",
    "        X_train_significant_features = X_train\n",
    "    \n",
    "    # Initialize with significant features\n",
    "    selected_vars = list(X_train_significant_features.columns)\n",
    "    remaining_vars = [var for var in X_train.columns if var not in selected_vars and var != 'const']\n",
    "    \n",
    "    # Best model using initial significant features\n",
    "    best_adj_r2, best_model = calculate_adjusted_r2(X_train_significant_features, y_train)\n",
    "    \n",
    "    # Forward Stepwise process: Add variables one at a time\n",
    "    while remaining_vars:\n",
    "        adj_r2_with_candidates = []\n",
    "        for candidate in remaining_vars:\n",
    "            # Add candidate variable to the current model\n",
    "            X_candidate = X_train_significant_features.join(X_train[candidate])\n",
    "            adj_r2, model = calculate_adjusted_r2(X_candidate, y_train)\n",
    "            adj_r2_with_candidates.append((adj_r2, candidate, model))\n",
    "        \n",
    "        # Sort and select the best candidate variable (higher Adjusted R-squared is better)\n",
    "        adj_r2_with_candidates.sort(reverse=True, key=lambda x: x[0])  # Sort in descending order to get the highest value\n",
    "        best_new_adj_r2, best_new_var, best_new_model = adj_r2_with_candidates[0]\n",
    "        \n",
    "        # Update model if new Adjusted R-squared is higher\n",
    "        if best_new_adj_r2 > best_adj_r2:\n",
    "            selected_vars.append(best_new_var)\n",
    "            X_train_significant_features = X_train_significant_features.join(X_train[best_new_var])\n",
    "            best_adj_r2 = best_new_adj_r2\n",
    "            best_model = best_new_model\n",
    "            remaining_vars.remove(best_new_var)\n",
    "        else:\n",
    "            break\n",
    "    \n",
    "    return best_adj_r2, best_model, selected_vars"
   ]
  },
  {
   "cell_type": "code",
   "execution_count": 13,
   "metadata": {},
   "outputs": [
    {
     "name": "stdout",
     "output_type": "stream",
     "text": [
      "Selected Variables: ['humidity', 'temp', 'ibt', 'doy', 'vh', 'vis']\n"
     ]
    },
    {
     "data": {
      "text/html": [
       "<div>\n",
       "<style scoped>\n",
       "    .dataframe tbody tr th:only-of-type {\n",
       "        vertical-align: middle;\n",
       "    }\n",
       "\n",
       "    .dataframe tbody tr th {\n",
       "        vertical-align: top;\n",
       "    }\n",
       "\n",
       "    .dataframe thead th {\n",
       "        text-align: right;\n",
       "    }\n",
       "</style>\n",
       "<table border=\"1\" class=\"dataframe\">\n",
       "  <thead>\n",
       "    <tr style=\"text-align: right;\">\n",
       "      <th></th>\n",
       "      <th>R-squared</th>\n",
       "      <th>Adjusted R-squared</th>\n",
       "      <th>MSE</th>\n",
       "    </tr>\n",
       "  </thead>\n",
       "  <tbody>\n",
       "    <tr>\n",
       "      <th>Forward Stepwise Model</th>\n",
       "      <td>0.905241</td>\n",
       "      <td>0.903038</td>\n",
       "      <td>17.658749</td>\n",
       "    </tr>\n",
       "  </tbody>\n",
       "</table>\n",
       "</div>"
      ],
      "text/plain": [
       "                        R-squared  Adjusted R-squared        MSE\n",
       "Forward Stepwise Model   0.905241            0.903038  17.658749"
      ]
     },
     "metadata": {},
     "output_type": "display_data"
    }
   ],
   "source": [
    "significant_features = ['humidity', 'temp', 'ibt', 'doy']\n",
    "\n",
    "best_adj_r2, best_model, selected_vars = forward_stepwise_selection(X_train_const, y_train, significant_features)\n",
    "print(\"Selected Variables:\", selected_vars)\n",
    "\n",
    "# Predict on test set using the selected features\n",
    "X_test_selected = X_test_const[selected_vars]\n",
    "y_pred = best_model.predict(X_test_selected)\n",
    "\n",
    "# Calculate Mean Squared Error (MSE)\n",
    "mse = mean_squared_error(y_test, y_pred)\n",
    "\n",
    "# Create DataFrame to store the results\n",
    "results_forward = pd.DataFrame({\n",
    "    \"R-squared\": [best_model.rsquared],\n",
    "    \"Adjusted R-squared\": [best_model.rsquared_adj],\n",
    "    \"MSE\": [mse]\n",
    "}, index=[\"Forward Stepwise Model\"])\n",
    "\n",
    "display(results_forward)"
   ]
  },
  {
   "cell_type": "code",
   "execution_count": 14,
   "metadata": {},
   "outputs": [
    {
     "name": "stdout",
     "output_type": "stream",
     "text": [
      "Selected features: Index(['humidity', 'temp', 'ibh', 'doy'], dtype='object')\n"
     ]
    },
    {
     "data": {
      "text/html": [
       "<div>\n",
       "<style scoped>\n",
       "    .dataframe tbody tr th:only-of-type {\n",
       "        vertical-align: middle;\n",
       "    }\n",
       "\n",
       "    .dataframe tbody tr th {\n",
       "        vertical-align: top;\n",
       "    }\n",
       "\n",
       "    .dataframe thead th {\n",
       "        text-align: right;\n",
       "    }\n",
       "</style>\n",
       "<table border=\"1\" class=\"dataframe\">\n",
       "  <thead>\n",
       "    <tr style=\"text-align: right;\">\n",
       "      <th></th>\n",
       "      <th>R-squared</th>\n",
       "      <th>Adjusted R-squared</th>\n",
       "      <th>MSE</th>\n",
       "    </tr>\n",
       "  </thead>\n",
       "  <tbody>\n",
       "    <tr>\n",
       "      <th>Forward Stepwise Model</th>\n",
       "      <td>0.681857</td>\n",
       "      <td>0.676943</td>\n",
       "      <td>20.316542</td>\n",
       "    </tr>\n",
       "  </tbody>\n",
       "</table>\n",
       "</div>"
      ],
      "text/plain": [
       "                        R-squared  Adjusted R-squared        MSE\n",
       "Forward Stepwise Model   0.681857            0.676943  20.316542"
      ]
     },
     "metadata": {},
     "output_type": "display_data"
    }
   ],
   "source": [
    "# Forward Stepwise Feature Selection\n",
    "model = LinearRegression()\n",
    "forward_selector = SequentialFeatureSelector(model, direction='forward', scoring='r2')\n",
    "forward_selector.fit(X_train, y_train)\n",
    "\n",
    "# Get the selected features\n",
    "selected_features = X_train.columns[forward_selector.get_support()]\n",
    "print(f'Selected features: {selected_features}')\n",
    "\n",
    "# Fit the model with selected features\n",
    "X_train_selected = X_train[selected_features]\n",
    "model.fit(X_train_selected, y_train)\n",
    "\n",
    "# Predict using the selected features\n",
    "y_train_pred = model.predict(X_train_selected)\n",
    "\n",
    "# Calculate metrics\n",
    "r_squared = r2_score(y_train, y_train_pred)\n",
    "n = len(y_train)\n",
    "p = X_train_selected.shape[1]\n",
    "adjusted_r_squared = 1 - (1 - r_squared) * (n - 1) / (n - p - 1)\n",
    "mse = mean_squared_error(y_train, y_train_pred)\n",
    "\n",
    "# Create a DataFrame to display results\n",
    "data = {\n",
    "    'R-squared': [r_squared],\n",
    "    'Adjusted R-squared': [adjusted_r_squared],\n",
    "    'MSE': [mse]\n",
    "}\n",
    "df = pd.DataFrame(data, index=['Forward Stepwise Model'])\n",
    "\n",
    "# Display the DataFrame\n",
    "display(df)"
   ]
  },
  {
   "cell_type": "code",
   "execution_count": 15,
   "metadata": {},
   "outputs": [
    {
     "data": {
      "text/html": [
       "<div>\n",
       "<style scoped>\n",
       "    .dataframe tbody tr th:only-of-type {\n",
       "        vertical-align: middle;\n",
       "    }\n",
       "\n",
       "    .dataframe tbody tr th {\n",
       "        vertical-align: top;\n",
       "    }\n",
       "\n",
       "    .dataframe thead th {\n",
       "        text-align: right;\n",
       "    }\n",
       "</style>\n",
       "<table border=\"1\" class=\"dataframe\">\n",
       "  <thead>\n",
       "    <tr style=\"text-align: right;\">\n",
       "      <th></th>\n",
       "      <th>R-squared</th>\n",
       "      <th>Adjusted R-squared</th>\n",
       "      <th>MSE</th>\n",
       "    </tr>\n",
       "  </thead>\n",
       "  <tbody>\n",
       "    <tr>\n",
       "      <th>Base</th>\n",
       "      <td>0.693848</td>\n",
       "      <td>0.683000</td>\n",
       "      <td>17.670801</td>\n",
       "    </tr>\n",
       "    <tr>\n",
       "      <th>Forward Stepwise Model</th>\n",
       "      <td>0.905241</td>\n",
       "      <td>0.903038</td>\n",
       "      <td>17.658749</td>\n",
       "    </tr>\n",
       "    <tr>\n",
       "      <th>Backward Stepwise</th>\n",
       "      <td>0.905241</td>\n",
       "      <td>0.903038</td>\n",
       "      <td>17.658749</td>\n",
       "    </tr>\n",
       "  </tbody>\n",
       "</table>\n",
       "</div>"
      ],
      "text/plain": [
       "                        R-squared  Adjusted R-squared        MSE\n",
       "Base                     0.693848            0.683000  17.670801\n",
       "Forward Stepwise Model   0.905241            0.903038  17.658749\n",
       "Backward Stepwise        0.905241            0.903038  17.658749"
      ]
     },
     "metadata": {},
     "output_type": "display_data"
    }
   ],
   "source": [
    "df = pd.concat([results_base_model, results_forward, results_backward])\n",
    "\n",
    "display(df)"
   ]
  },
  {
   "cell_type": "markdown",
   "metadata": {},
   "source": [
    "## Prostate dataset"
   ]
  },
  {
   "cell_type": "markdown",
   "metadata": {},
   "source": [
    "### Import libraries"
   ]
  },
  {
   "cell_type": "code",
   "execution_count": 18,
   "metadata": {},
   "outputs": [],
   "source": [
    "from sklearn.linear_model import LogisticRegression\n",
    "from sklearn.model_selection import train_test_split\n",
    "from sklearn.metrics import accuracy_score, precision_score, recall_score, f1_score, roc_auc_score\n",
    "import statsmodels.api as sm\n",
    "from statsmodels.stats.outliers_influence import variance_inflation_factor\n",
    "\n",
    "import faraway.datasets.prostate as prostate "
   ]
  },
  {
   "cell_type": "markdown",
   "metadata": {},
   "source": [
    "### Base Model"
   ]
  },
  {
   "cell_type": "code",
   "execution_count": 23,
   "metadata": {},
   "outputs": [
    {
     "data": {
      "text/html": [
       "<div>\n",
       "<style scoped>\n",
       "    .dataframe tbody tr th:only-of-type {\n",
       "        vertical-align: middle;\n",
       "    }\n",
       "\n",
       "    .dataframe tbody tr th {\n",
       "        vertical-align: top;\n",
       "    }\n",
       "\n",
       "    .dataframe thead th {\n",
       "        text-align: right;\n",
       "    }\n",
       "</style>\n",
       "<table border=\"1\" class=\"dataframe\">\n",
       "  <thead>\n",
       "    <tr style=\"text-align: right;\">\n",
       "      <th></th>\n",
       "      <th>Accuracy</th>\n",
       "      <th>Precision</th>\n",
       "      <th>Recall</th>\n",
       "      <th>F1</th>\n",
       "      <th>AUC-ROC</th>\n",
       "    </tr>\n",
       "  </thead>\n",
       "  <tbody>\n",
       "    <tr>\n",
       "      <th>Base Model</th>\n",
       "      <td>0.7</td>\n",
       "      <td>0.5</td>\n",
       "      <td>0.166667</td>\n",
       "      <td>0.25</td>\n",
       "      <td>0.940476</td>\n",
       "    </tr>\n",
       "  </tbody>\n",
       "</table>\n",
       "</div>"
      ],
      "text/plain": [
       "            Accuracy  Precision    Recall    F1   AUC-ROC\n",
       "Base Model       0.7        0.5  0.166667  0.25  0.940476"
      ]
     },
     "metadata": {},
     "output_type": "display_data"
    }
   ],
   "source": [
    "# Load the prostate dataset\n",
    "prostate_data = prostate.load()\n",
    "\n",
    "# Separate the features (X_prostate) from the target (y_prostate)\n",
    "X_prostate = prostate_data.drop(columns=['svi'])\n",
    "y_prostate = prostate_data['svi']\n",
    "\n",
    "# Split the data into training and testing sets\n",
    "X_train_prostate, X_test_prostate, y_train_prostate, y_test_prostate = train_test_split(X_prostate, y_prostate, test_size=0.2, random_state=123)\n",
    "\n",
    "# Initialize the logistic regression model (max_iter=1000 ensures convergence)\n",
    "model = LogisticRegression(max_iter=1000)\n",
    "\n",
    "# Fit the model on the training data\n",
    "model.fit(X_train_prostate, y_train_prostate)\n",
    "\n",
    "# Make predictions on the test set\n",
    "y_pred_prostate = model.predict(X_test_prostate)\n",
    "\n",
    "# Calculate metrics\n",
    "accuracy = accuracy_score(y_test_prostate, y_pred_prostate)\n",
    "precision = precision_score(y_test_prostate, y_pred_prostate)\n",
    "recall = recall_score(y_test_prostate, y_pred_prostate)\n",
    "f1 = f1_score(y_test_prostate, y_pred_prostate)\n",
    "\n",
    "# Calculate the AUC-ROC score\n",
    "y_pred_proba_prostate = model.predict_proba(X_test_prostate)[:, 1]\n",
    "auc_roc = roc_auc_score(y_test_prostate, y_pred_proba_prostate)\n",
    "\n",
    "# Create a dictionary with the metrics\n",
    "metrics_data = {\n",
    "    'Accuracy': [accuracy],\n",
    "    'Precision': [precision],\n",
    "    'Recall': [recall],\n",
    "    'F1': [f1],\n",
    "    'AUC-ROC': [auc_roc]\n",
    "}\n",
    "\n",
    "# Convert the dictionary into a pandas DataFrame\n",
    "base_metrics_df = pd.DataFrame(metrics_data, index=['Base Model'])\n",
    "\n",
    "# Display the DataFrame containing the classification metrics for the base model\n",
    "display(base_metrics_df)\n"
   ]
  },
  {
   "cell_type": "markdown",
   "metadata": {},
   "source": [
    "The Variance Inflation Factor (VIF) is a statistical tool used to measure the level of multicollinearity among the independent variables in a regression model."
   ]
  },
  {
   "cell_type": "code",
   "execution_count": 31,
   "metadata": {},
   "outputs": [
    {
     "name": "stdout",
     "output_type": "stream",
     "text": [
      "Features with high VIF (greater than 10 ):\n"
     ]
    },
    {
     "data": {
      "text/html": [
       "<div>\n",
       "<style scoped>\n",
       "    .dataframe tbody tr th:only-of-type {\n",
       "        vertical-align: middle;\n",
       "    }\n",
       "\n",
       "    .dataframe tbody tr th {\n",
       "        vertical-align: top;\n",
       "    }\n",
       "\n",
       "    .dataframe thead th {\n",
       "        text-align: right;\n",
       "    }\n",
       "</style>\n",
       "<table border=\"1\" class=\"dataframe\">\n",
       "  <thead>\n",
       "    <tr style=\"text-align: right;\">\n",
       "      <th></th>\n",
       "      <th>Variable</th>\n",
       "      <th>VIF</th>\n",
       "    </tr>\n",
       "  </thead>\n",
       "  <tbody>\n",
       "    <tr>\n",
       "      <th>1</th>\n",
       "      <td>lweight</td>\n",
       "      <td>57.783939</td>\n",
       "    </tr>\n",
       "    <tr>\n",
       "      <th>2</th>\n",
       "      <td>age</td>\n",
       "      <td>82.405422</td>\n",
       "    </tr>\n",
       "    <tr>\n",
       "      <th>5</th>\n",
       "      <td>gleason</td>\n",
       "      <td>84.900349</td>\n",
       "    </tr>\n",
       "    <tr>\n",
       "      <th>7</th>\n",
       "      <td>lpsa</td>\n",
       "      <td>16.916888</td>\n",
       "    </tr>\n",
       "  </tbody>\n",
       "</table>\n",
       "</div>"
      ],
      "text/plain": [
       "  Variable        VIF\n",
       "1  lweight  57.783939\n",
       "2      age  82.405422\n",
       "5  gleason  84.900349\n",
       "7     lpsa  16.916888"
      ]
     },
     "metadata": {},
     "output_type": "display_data"
    }
   ],
   "source": [
    "# Set a threshold for VIF (commonly 5 or 10)\n",
    "vif_threshold = 10\n",
    "\n",
    "# Calculate VIF for all variables\n",
    "VIF_vars = []\n",
    "\n",
    "for i in range(X_train_prostate.shape[1]):\n",
    "    vif = variance_inflation_factor(X_train_prostate.values, i)\n",
    "    VIF_vars.append(vif)\n",
    "\n",
    "# DataFrame with VIF data\n",
    "vif_df  = pd.DataFrame({\n",
    "    'Variable': X_train_prostate.columns,\n",
    "    'VIF': VIF_vars\n",
    "})\n",
    "important_vif_features = vif_df[vif_df['VIF'] > vif_threshold]\n",
    "# Print the important features with high VIF\n",
    "print(\"Features with high VIF (greater than\", vif_threshold,\"):\")\n",
    "display(important_vif_features)"
   ]
  },
  {
   "cell_type": "code",
   "execution_count": 32,
   "metadata": {},
   "outputs": [
    {
     "name": "stdout",
     "output_type": "stream",
     "text": [
      "Optimization terminated successfully.\n",
      "         Current function value: 0.157251\n",
      "         Iterations 9\n",
      "Optimization terminated successfully.\n",
      "         Current function value: 0.157273\n",
      "         Iterations 9\n",
      "Optimization terminated successfully.\n",
      "         Current function value: 0.159481\n",
      "         Iterations 9\n",
      "Optimization terminated successfully.\n",
      "         Current function value: 0.162844\n",
      "         Iterations 9\n",
      "Optimization terminated successfully.\n",
      "         Current function value: 0.166762\n",
      "         Iterations 9\n",
      "Optimization terminated successfully.\n",
      "         Current function value: 0.172428\n",
      "         Iterations 9\n",
      "Optimization terminated successfully.\n",
      "         Current function value: 0.174654\n",
      "         Iterations 9\n"
     ]
    }
   ],
   "source": [
    "# Agregar una columna de constantes\n",
    "X_train_prostate = sm.add_constant(X_train_prostate)\n",
    "X_test_prostate = sm.add_constant(X_test_prostate)\n",
    "\n",
    "# Inicializar el modelo con todas las variables\n",
    "model = sm.Logit(y_train_prostate, X_train_prostate).fit()\n",
    "\n",
    "# Aplicar backward stepwise\n",
    "while True:\n",
    "    # Obtener el valor-p para cada variable\n",
    "    p_values = model.pvalues\n",
    "    # Identificar la variable con el valor-p más alto\n",
    "    max_p_value = p_values.max()\n",
    "    if max_p_value < 0.05:\n",
    "        break\n",
    "    # Eliminar la variable menos significativa\n",
    "    remove_var = p_values.idxmax()\n",
    "    X_train_prostate = X_train_prostate.drop(columns=[remove_var])\n",
    "    X_test_prostate = X_test_prostate.drop(columns=[remove_var])\n",
    "    # Ajustar el modelo con las variables restantes\n",
    "    model = sm.Logit(y_train_prostate, X_train_prostate).fit()\n",
    "\n",
    "# Realizar predicciones en el conjunto de prueba\n",
    "y_pred_prostate = model.predict(X_test_prostate) > 0.5\n",
    "porcentaje_clasificacion_backward = accuracy_score(y_test_prostate, y_pred_prostate)"
   ]
  },
  {
   "cell_type": "code",
   "execution_count": 35,
   "metadata": {},
   "outputs": [
    {
     "name": "stdout",
     "output_type": "stream",
     "text": [
      "Index(['const', 'lcp', 'lpsa'], dtype='object')\n"
     ]
    },
    {
     "data": {
      "text/html": [
       "<div>\n",
       "<style scoped>\n",
       "    .dataframe tbody tr th:only-of-type {\n",
       "        vertical-align: middle;\n",
       "    }\n",
       "\n",
       "    .dataframe tbody tr th {\n",
       "        vertical-align: top;\n",
       "    }\n",
       "\n",
       "    .dataframe thead th {\n",
       "        text-align: right;\n",
       "    }\n",
       "</style>\n",
       "<table border=\"1\" class=\"dataframe\">\n",
       "  <thead>\n",
       "    <tr style=\"text-align: right;\">\n",
       "      <th></th>\n",
       "      <th>Accuracy</th>\n",
       "      <th>Precision</th>\n",
       "      <th>Recall</th>\n",
       "      <th>F1</th>\n",
       "      <th>AUC-ROC</th>\n",
       "    </tr>\n",
       "  </thead>\n",
       "  <tbody>\n",
       "    <tr>\n",
       "      <th>Backward Selection Model</th>\n",
       "      <td>0.8</td>\n",
       "      <td>1.0</td>\n",
       "      <td>0.333333</td>\n",
       "      <td>0.5</td>\n",
       "      <td>0.97619</td>\n",
       "    </tr>\n",
       "  </tbody>\n",
       "</table>\n",
       "</div>"
      ],
      "text/plain": [
       "                          Accuracy  Precision    Recall   F1  AUC-ROC\n",
       "Backward Selection Model       0.8        1.0  0.333333  0.5  0.97619"
      ]
     },
     "metadata": {},
     "output_type": "display_data"
    }
   ],
   "source": [
    "# Calculate metrics\n",
    "accuracy = accuracy_score(y_test_prostate, y_pred_prostate)\n",
    "precision = precision_score(y_test_prostate, y_pred_prostate)\n",
    "recall = recall_score(y_test_prostate, y_pred_prostate)\n",
    "f1 = f1_score(y_test_prostate, y_pred_prostate)\n",
    "\n",
    "# AUC-ROC\n",
    "y_pred_proba_prostate = model.predict(X_test_prostate)\n",
    "auc_roc = roc_auc_score(y_test_prostate, y_pred_proba_prostate)\n",
    "\n",
    "# Create a DataFrame with the metrics\n",
    "metrics_data = {\n",
    "    'Accuracy': [accuracy],\n",
    "    'Precision': [precision],\n",
    "    'Recall': [recall],\n",
    "    'F1': [f1],\n",
    "    'AUC-ROC': [auc_roc]\n",
    "}\n",
    "\n",
    "# Create the DataFrame\n",
    "backward_metrics_df = pd.DataFrame(metrics_data, index=['Backward Selection Model'])\n",
    "\n",
    "print(X_train_prostate.columns)\n",
    "display(backward_metrics_df)"
   ]
  },
  {
   "cell_type": "code",
   "execution_count": 36,
   "metadata": {},
   "outputs": [
    {
     "data": {
      "text/html": [
       "<div>\n",
       "<style scoped>\n",
       "    .dataframe tbody tr th:only-of-type {\n",
       "        vertical-align: middle;\n",
       "    }\n",
       "\n",
       "    .dataframe tbody tr th {\n",
       "        vertical-align: top;\n",
       "    }\n",
       "\n",
       "    .dataframe thead th {\n",
       "        text-align: right;\n",
       "    }\n",
       "</style>\n",
       "<table border=\"1\" class=\"dataframe\">\n",
       "  <thead>\n",
       "    <tr style=\"text-align: right;\">\n",
       "      <th></th>\n",
       "      <th>Accuracy</th>\n",
       "      <th>Precision</th>\n",
       "      <th>Recall</th>\n",
       "      <th>F1</th>\n",
       "      <th>AUC-ROC</th>\n",
       "    </tr>\n",
       "  </thead>\n",
       "  <tbody>\n",
       "    <tr>\n",
       "      <th>Base Model</th>\n",
       "      <td>0.7</td>\n",
       "      <td>0.5</td>\n",
       "      <td>0.166667</td>\n",
       "      <td>0.25</td>\n",
       "      <td>0.940476</td>\n",
       "    </tr>\n",
       "    <tr>\n",
       "      <th>Backward Selection Model</th>\n",
       "      <td>0.8</td>\n",
       "      <td>1.0</td>\n",
       "      <td>0.333333</td>\n",
       "      <td>0.50</td>\n",
       "      <td>0.976190</td>\n",
       "    </tr>\n",
       "  </tbody>\n",
       "</table>\n",
       "</div>"
      ],
      "text/plain": [
       "                          Accuracy  Precision    Recall    F1   AUC-ROC\n",
       "Base Model                     0.7        0.5  0.166667  0.25  0.940476\n",
       "Backward Selection Model       0.8        1.0  0.333333  0.50  0.976190"
      ]
     },
     "metadata": {},
     "output_type": "display_data"
    }
   ],
   "source": [
    "df = pd.concat([base_metrics_df, backward_metrics_df])\n",
    "\n",
    "display(df)"
   ]
  },
  {
   "cell_type": "code",
   "execution_count": 38,
   "metadata": {},
   "outputs": [
    {
     "data": {
      "image/png": "[encoded data removed]",
      "text/plain": [
       "<Figure size 600x400 with 1 Axes>"
      ]
     },
     "metadata": {},
     "output_type": "display_data"
    }
   ],
   "source": [
    "from sklearn.metrics import confusion_matrix\n",
    "import seaborn as sns\n",
    "import matplotlib.pyplot as plt\n",
    "\n",
    "# Generate the confusion matrix\n",
    "conf_matrix = confusion_matrix(y_test_prostate, y_pred_prostate)\n",
    "\n",
    "# Plot the confusion matrix using Seaborn heatmap for better visualization\n",
    "plt.figure(figsize=(6, 4))\n",
    "sns.heatmap(conf_matrix, annot=True, fmt=\"d\", cmap=\"Blues\", cbar=False, xticklabels=[\"Negative\", \"Positive\"], yticklabels=[\"Negative\", \"Positive\"])\n",
    "plt.xlabel(\"Predicted\")\n",
    "plt.ylabel(\"Actual\")\n",
    "plt.title(\"Confusion Matrix - Logistic Regression\")\n",
    "plt.show()\n"
   ]
  },
  {
   "cell_type": "code",
   "execution_count": 37,
   "metadata": {},
   "outputs": [
    {
     "data": {
      "image/png": "[encoded data removed]",
      "text/plain": [
       "<Figure size 600x600 with 1 Axes>"
      ]
     },
     "metadata": {},
     "output_type": "display_data"
    }
   ],
   "source": [
    "from sklearn.metrics import roc_curve, roc_auc_score\n",
    "import matplotlib.pyplot as plt\n",
    "\n",
    "# Generar los valores para la curva ROC\n",
    "fpr, tpr, thresholds = roc_curve(y_test_prostate, y_pred_proba_prostate)\n",
    "\n",
    "# Calcular el AUC\n",
    "auc_roc = roc_auc_score(y_test_prostate, y_pred_proba_prostate)\n",
    "\n",
    "# Graficar la curva ROC\n",
    "plt.figure(figsize=(6, 6))\n",
    "plt.plot(fpr, tpr, color='blue', label=f'ROC curve (AUC = {auc_roc:.2f})')\n",
    "plt.plot([0, 1], [0, 1], color='grey', linestyle='--')  # Línea diagonal para referencia\n",
    "plt.xlabel('False Positive Rate')\n",
    "plt.ylabel('True Positive Rate')\n",
    "plt.title('ROC Curve - Logistic Regression')\n",
    "plt.legend(loc='lower right')\n",
    "plt.grid(True)\n",
    "plt.show()\n"
   ]
  }
 ],
 "metadata": {
  "kernelspec": {
   "display_name": "Python 3",
   "language": "python",
   "name": "python3"
  },
  "language_info": {
   "codemirror_mode": {
    "name": "ipython",
    "version": 3
   },
   "file_extension": ".py",
   "mimetype": "text/x-python",
   "name": "python",
   "nbconvert_exporter": "python",
   "pygments_lexer": "ipython3",
   "version": "3.12.2"
  }
 },
 "nbformat": 4,
 "nbformat_minor": 2
}
