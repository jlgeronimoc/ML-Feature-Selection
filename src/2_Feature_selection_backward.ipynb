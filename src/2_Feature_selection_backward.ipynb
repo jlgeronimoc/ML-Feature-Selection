{
  "cells": [
    {
      "cell_type": "markdown",
      "metadata": {
        "id": "view-in-github",
        "colab_type": "text"
      },
      "source": [
        "<a href=\"https://colab.research.google.com/github/ricardogr07/Machine-Learning-Basics/blob/main/src/2_Feature_selection_backward.ipynb\" target=\"_parent\"><img src=\"https://colab.research.google.com/assets/colab-badge.svg\" alt=\"Open In Colab\"/></a>"
      ]
    },
    {
      "cell_type": "markdown",
      "metadata": {
        "id": "jkg4XJd76fY6"
      },
      "source": [
        "# Building Your First Machine Learning Model: A Complete Guide to Backward Stepwise Feature Selection"
      ]
    },
    {
      "cell_type": "code",
      "execution_count": null,
      "metadata": {
        "id": "XPnZ8AZj6fY7"
      },
      "outputs": [],
      "source": [
        "# Install the necessary libraries\n",
        "%pip install numpy pandas scikit-learn statsmodels faraway"
      ]
    },
    {
      "cell_type": "markdown",
      "metadata": {
        "id": "-nT5m3TY6fY8"
      },
      "source": [
        "Libraries"
      ]
    },
    {
      "cell_type": "code",
      "execution_count": null,
      "metadata": {
        "id": "w5buGfnc6fY8"
      },
      "outputs": [],
      "source": [
        "# Import essential libraries\n",
        "import pandas as pd\n",
        "import statsmodels.api as sm\n",
        "from sklearn.metrics import mean_squared_error, r2_score\n",
        "from sklearn.model_selection import train_test_split\n",
        "from sklearn.feature_selection import SequentialFeatureSelector\n",
        "from sklearn.linear_model import LinearRegression\n",
        "\n",
        "# Import dataset\n",
        "import faraway.datasets.ozone as ozone"
      ]
    },
    {
      "cell_type": "markdown",
      "metadata": {
        "id": "xQlczrai6fY8"
      },
      "source": [
        "Base model"
      ]
    },
    {
      "cell_type": "code",
      "execution_count": null,
      "metadata": {
        "id": "igiCoiN76fY8"
      },
      "outputs": [],
      "source": [
        "# Load the Ozone dataset\n",
        "data = ozone.load()\n",
        "\n",
        "# Separate features (X) and the target variable (y)\n",
        "X = data.drop(columns=['O3'])\n",
        "y = data['O3']\n",
        "\n",
        "# Split data\n",
        "X_train, X_test, y_train, y_test = train_test_split(X, y, test_size=0.2, random_state=123)\n",
        "\n",
        "# Add constant term for intercept\n",
        "X_train_const = sm.add_constant(X_train)\n",
        "X_test_const = sm.add_constant(X_test)\n",
        "\n",
        "# Fit OLS model\n",
        "base_model = sm.OLS(y_train, X_train_const).fit()\n",
        "\n",
        "# Predict on test set\n",
        "y_pred = base_model.predict(X_test_const)\n",
        "\n",
        "# Calculate Mean Squared Error (MSE)\n",
        "mse = mean_squared_error(y_test, y_pred)\n",
        "\n",
        "# Performance\n",
        "mse = mean_squared_error(y_test, y_pred)\n",
        "\n",
        "# Create DataFrame to store the results\n",
        "results_base_model = pd.DataFrame({\n",
        "    \"R-squared\": [base_model.rsquared],\n",
        "    \"Adjusted R-squared\": [base_model.rsquared_adj],\n",
        "    \"MSE\": [mse]\n",
        "}, index=[\"Base Model\"])\n",
        "\n",
        "display(results_base_model)"
      ]
    },
    {
      "cell_type": "markdown",
      "metadata": {
        "id": "Pxm9DT6O6fY9"
      },
      "source": [
        "Forward stepwise"
      ]
    },
    {
      "cell_type": "code",
      "execution_count": null,
      "metadata": {
        "id": "NPk9cAJ06fY9"
      },
      "outputs": [],
      "source": [
        "def forward_stepwise_selection(X_train:pd.DataFrame, y_train:pd.DataFrame, initial_sig_vars:list):\n",
        "    \"\"\"\n",
        "    Perform forward stepwise selection to maximize Adjusted R-squared.\n",
        "\n",
        "    Parameters:\n",
        "    X_train (pd.DataFrame): The training data with features.\n",
        "    y_train (pd.Series or pd.DataFrame): The target variable.\n",
        "    initial_sig_vars (list): A list of initial significant features to start with.\n",
        "\n",
        "    Returns:\n",
        "    tuple: Best Adjusted R-squared, best model, and the list of selected variables.\n",
        "    \"\"\"\n",
        "\n",
        "    # Define a function to calculate Adjusted R-squared for a given set of features\n",
        "    def calculate_adjusted_r2(X, y):\n",
        "        model_OLS = sm.OLS(y, X).fit()\n",
        "        return model_OLS.rsquared_adj, model_OLS\n",
        "\n",
        "    # Select only the significant features for the initial model\n",
        "    if len(initial_sig_vars) != 0 :\n",
        "        X_train_significant_features = X_train[initial_sig_vars]\n",
        "    else:\n",
        "        X_train_significant_features = X_train\n",
        "\n",
        "    # Initialize with significant features\n",
        "    selected_vars = list(X_train_significant_features.columns)\n",
        "    remaining_vars = [var for var in X_train.columns if var not in selected_vars and var != 'const']\n",
        "\n",
        "    # Best model using initial significant features\n",
        "    best_adj_r2, best_model = calculate_adjusted_r2(X_train_significant_features, y_train)\n",
        "\n",
        "    # Forward Stepwise process: Add variables one at a time\n",
        "    while remaining_vars:\n",
        "        adj_r2_with_candidates = []\n",
        "        for candidate in remaining_vars:\n",
        "            # Add candidate variable to the current model\n",
        "            X_candidate = X_train_significant_features.join(X_train[candidate])\n",
        "            adj_r2, model = calculate_adjusted_r2(X_candidate, y_train)\n",
        "            adj_r2_with_candidates.append((adj_r2, candidate, model))\n",
        "\n",
        "        # Sort and select the best candidate variable (higher Adjusted R-squared is better)\n",
        "        adj_r2_with_candidates.sort(reverse=True, key=lambda x: x[0])  # Sort in descending order to get the highest value\n",
        "        best_new_adj_r2, best_new_var, best_new_model = adj_r2_with_candidates[0]\n",
        "\n",
        "        # Update model if new Adjusted R-squared is higher\n",
        "        if best_new_adj_r2 > best_adj_r2:\n",
        "            selected_vars.append(best_new_var)\n",
        "            X_train_significant_features = X_train_significant_features.join(X_train[best_new_var])\n",
        "            best_adj_r2 = best_new_adj_r2\n",
        "            best_model = best_new_model\n",
        "            remaining_vars.remove(best_new_var)\n",
        "        else:\n",
        "            break\n",
        "\n",
        "    return best_adj_r2, best_model, selected_vars"
      ]
    },
    {
      "cell_type": "code",
      "execution_count": null,
      "metadata": {
        "id": "cDxk0kck6fY9"
      },
      "outputs": [],
      "source": [
        "# Add constant term for intercept\n",
        "X_train_const = sm.add_constant(X_train)\n",
        "X_test_const = sm.add_constant(X_test)\n",
        "\n",
        "significant_features = ['humidity', 'temp', 'ibt', 'doy']\n",
        "\n",
        "best_adj_r2, best_model, selected_vars = forward_stepwise_selection(X_train_const, y_train, significant_features)\n",
        "print(\"Adjusted R-squared of Forward Stepwise Model:\", best_adj_r2)\n",
        "print(\"Selected Variables:\", selected_vars)\n",
        "\n",
        "# Predict on test set using the selected features\n",
        "X_test_selected = X_test_const[selected_vars]\n",
        "y_pred = best_model.predict(X_test_selected)\n",
        "\n",
        "# Calculate Mean Squared Error (MSE)\n",
        "mse = mean_squared_error(y_test, y_pred)\n",
        "\n",
        "# Create DataFrame to store the results\n",
        "results_forward = pd.DataFrame({\n",
        "    \"R-squared\": [best_model.rsquared],\n",
        "    \"Adjusted R-squared\": [best_model.rsquared_adj],\n",
        "    \"MSE\": [mse]\n",
        "}, index=[\"Forward Stepwise Model\"])\n",
        "\n",
        "display(results_forward)"
      ]
    },
    {
      "cell_type": "markdown",
      "metadata": {
        "id": "QXZdxWHr6fY-"
      },
      "source": [
        "Alternative way using the `SequentialFeatureSelector` class"
      ]
    },
    {
      "cell_type": "code",
      "execution_count": null,
      "metadata": {
        "id": "JckKaOwb6fY-"
      },
      "outputs": [],
      "source": [
        "# Forward Stepwise Feature Selection\n",
        "model = LinearRegression()\n",
        "forward_selector = SequentialFeatureSelector(model, direction='forward', scoring='r2')\n",
        "forward_selector.fit(X_train, y_train)\n",
        "\n",
        "# Get the selected features\n",
        "selected_features = X_train.columns[forward_selector.get_support()]\n",
        "print(f'Selected features: {selected_features}')\n",
        "\n",
        "# Fit the model with selected features\n",
        "X_train_selected = X_train[selected_features]\n",
        "model.fit(X_train_selected, y_train)\n",
        "\n",
        "# Predict using the selected features\n",
        "y_train_pred = model.predict(X_train_selected)\n",
        "\n",
        "# Calculate metrics\n",
        "r_squared = r2_score(y_train, y_train_pred)\n",
        "n = len(y_train)\n",
        "p = X_train_selected.shape[1]\n",
        "adjusted_r_squared = 1 - (1 - r_squared) * (n - 1) / (n - p - 1)\n",
        "mse = mean_squared_error(y_train, y_train_pred)\n",
        "\n",
        "# Create a DataFrame to display results\n",
        "data = {\n",
        "    'R-squared': [r_squared],\n",
        "    'Adjusted R-squared': [adjusted_r_squared],\n",
        "    'MSE': [mse]\n",
        "}\n",
        "df = pd.DataFrame(data, index=['Forward Stepwise Model'])\n",
        "\n",
        "# Display the DataFrame\n",
        "display(df)"
      ]
    },
    {
      "cell_type": "markdown",
      "metadata": {
        "id": "ZfHYwz7T6fY-"
      },
      "source": [
        "Backward stepwise"
      ]
    },
    {
      "cell_type": "code",
      "execution_count": null,
      "metadata": {
        "id": "hO5w0rKY6fY-"
      },
      "outputs": [],
      "source": [
        "# Define a function to calculate Adjusted R-squared using OLS from statsmodels\n",
        "def calculate_adjusted_r2(X, y):\n",
        "    model_OLS = sm.OLS(y, X).fit()\n",
        "    return model_OLS.rsquared_adj, model_OLS\n",
        "\n",
        "# Backward Stepwise Selection function\n",
        "def backward_stepwise_selection(X_train, y_train):\n",
        "    \"\"\"\n",
        "    Perform backward stepwise selection to maximize Adjusted R-squared using OLS.\n",
        "\n",
        "    Parameters:\n",
        "    X_train (pd.DataFrame): The training data with features.\n",
        "    y_train (pd.Series or pd.DataFrame): The target variable.\n",
        "\n",
        "    Returns:\n",
        "    tuple: Best Adjusted R-squared, best model, and the list of selected variables.\n",
        "    \"\"\"\n",
        "\n",
        "    # Initialize the set of all variables\n",
        "    selected_vars = list(X_train.columns)\n",
        "\n",
        "    # Best model using all features\n",
        "    best_adj_r2, best_model = calculate_adjusted_r2(X_train[selected_vars], y_train)\n",
        "\n",
        "    # Backward Stepwise process: Remove variables one at a time\n",
        "    while len(selected_vars) > 1:\n",
        "        adj_r2_with_candidates = []\n",
        "\n",
        "        # Try removing each variable one by one\n",
        "        for candidate in selected_vars:\n",
        "            remaining_vars = [var for var in selected_vars if var != candidate]\n",
        "            adj_r2, model = calculate_adjusted_r2(X_train[remaining_vars], y_train)\n",
        "            adj_r2_with_candidates.append((adj_r2, candidate, model))\n",
        "\n",
        "        # Sort and select the best candidate to remove (highest Adjusted R-squared)\n",
        "        adj_r2_with_candidates.sort(reverse=True, key=lambda x: x[0])  # Sort in descending order\n",
        "        best_new_adj_r2, worst_var, best_new_model = adj_r2_with_candidates[0]\n",
        "\n",
        "        # If removing a variable improves adjusted R-squared, update the model\n",
        "        if best_new_adj_r2 > best_adj_r2:\n",
        "            selected_vars.remove(worst_var)\n",
        "            best_adj_r2 = best_new_adj_r2\n",
        "            best_model = best_new_model\n",
        "        else:\n",
        "            break\n",
        "\n",
        "    return best_adj_r2, best_model, selected_vars\n"
      ]
    },
    {
      "cell_type": "code",
      "execution_count": null,
      "metadata": {
        "id": "58U3uEJh6fY-"
      },
      "outputs": [],
      "source": [
        "# Example usage\n",
        "best_adj_r2, best_model, selected_features = backward_stepwise_selection(X_train_const, y_train)\n",
        "\n",
        "# Output the results\n",
        "print(\"Selected Features:\", selected_features)\n",
        "\n",
        "# Predict on test set using the selected features\n",
        "X_test_selected = X_test_const[selected_features]\n",
        "y_pred = best_model.predict(X_test_selected)\n",
        "\n",
        "# Calculate Mean Squared Error (MSE)\n",
        "mse = mean_squared_error(y_test, y_pred)\n",
        "\n",
        "# Create DataFrame to store the results\n",
        "results_backward = pd.DataFrame({\n",
        "    \"R-squared\": [best_model.rsquared],\n",
        "    \"Adjusted R-squared\": [best_model.rsquared_adj],\n",
        "    \"MSE\": [mse]\n",
        "}, index=[\"Backward Stepwise Model\"])\n",
        "\n",
        "display(results_backward)"
      ]
    },
    {
      "cell_type": "code",
      "execution_count": null,
      "metadata": {
        "id": "PeYqyNKD6fY_"
      },
      "outputs": [],
      "source": [
        "# Backward Stepwise Feature Selection\n",
        "model = LinearRegression()\n",
        "forward_selector = SequentialFeatureSelector(model, direction='backward', scoring='r2')\n",
        "forward_selector.fit(X_train, y_train)\n",
        "\n",
        "# Get the selected features\n",
        "selected_features = X_train.columns[forward_selector.get_support()]\n",
        "print(f'Selected features: {selected_features}')\n",
        "\n",
        "# Fit the model with selected features\n",
        "X_train_selected = X_train[selected_features]\n",
        "model.fit(X_train_selected, y_train)\n",
        "\n",
        "# Predict using the selected features\n",
        "y_train_pred = model.predict(X_train_selected)\n",
        "\n",
        "# Calculate metrics\n",
        "r_squared = r2_score(y_train, y_train_pred)\n",
        "n = len(y_train)\n",
        "p = X_train_selected.shape[1]\n",
        "adjusted_r_squared = 1 - (1 - r_squared) * (n - 1) / (n - p - 1)\n",
        "mse = mean_squared_error(y_train, y_train_pred)\n",
        "\n",
        "# Create a DataFrame to display results\n",
        "data = {\n",
        "    'R-squared': [r_squared],\n",
        "    'Adjusted R-squared': [adjusted_r_squared],\n",
        "    'MSE': [mse]\n",
        "}\n",
        "df = pd.DataFrame(data, index=['Forward Stepwise Model'])\n",
        "\n",
        "# Display the DataFrame\n",
        "display(df)"
      ]
    },
    {
      "cell_type": "code",
      "execution_count": null,
      "metadata": {
        "id": "iDCDoHKx6fY_"
      },
      "outputs": [],
      "source": [
        "df = pd.concat([results_base_model, results_forward, results_backward])\n",
        "\n",
        "display(df)"
      ]
    },
    {
      "cell_type": "markdown",
      "metadata": {
        "id": "zVnWSENI6fY_"
      },
      "source": [
        "Second case"
      ]
    },
    {
      "cell_type": "code",
      "execution_count": null,
      "metadata": {
        "id": "ZW9gTA1O6fY_"
      },
      "outputs": [],
      "source": [
        "from sklearn.linear_model import LogisticRegression\n",
        "from sklearn.model_selection import train_test_split\n",
        "from sklearn.metrics import accuracy_score, precision_score, recall_score, f1_score, roc_auc_score\n",
        "import statsmodels.api as sm\n",
        "from statsmodels.stats.outliers_influence import variance_inflation_factor\n",
        "\n",
        "import faraway.datasets.prostate as prostate"
      ]
    },
    {
      "cell_type": "code",
      "execution_count": null,
      "metadata": {
        "id": "LNEtXCCv6fY_"
      },
      "outputs": [],
      "source": [
        "prostate_data = prostate.load()\n",
        "\n",
        "X_train_prostate = prostate_data.drop(columns=['svi'])\n",
        "y_train_prostate = prostate_data['svi']\n",
        "\n",
        "X_train_prostate, X_test_prostate, y_train_prostate, y_test_prostate = train_test_split(X_train_prostate, y_train_prostate, test_size=0.2, random_state=123)"
      ]
    },
    {
      "cell_type": "code",
      "execution_count": null,
      "metadata": {
        "id": "-svTzeYI6fY_"
      },
      "outputs": [],
      "source": [
        "# Ajustar el modelo de regresión logística sin intercepto\n",
        "model_LR_no_intercept = LogisticRegression(max_iter=1000)\n",
        "model_LR_no_intercept.fit(X_train_prostate, y_train_prostate)\n",
        "\n",
        "# Realizar predicciones en el conjunto de test\n",
        "y_pred_prostate = model_LR_no_intercept.predict(X_test_prostate)"
      ]
    },
    {
      "cell_type": "code",
      "execution_count": null,
      "metadata": {
        "id": "_WaOKRSc6fY_"
      },
      "outputs": [],
      "source": [
        "# Calculate the classification accuracy\n",
        "accuracy = accuracy_score(y_test_prostate, y_pred_prostate)\n",
        "\n",
        "# Calculate additional metrics\n",
        "precision = precision_score(y_test_prostate, y_pred_prostate)\n",
        "recall = recall_score(y_test_prostate, y_pred_prostate)\n",
        "f1 = f1_score(y_test_prostate, y_pred_prostate)\n",
        "\n",
        "# For AUC-ROC, we need the prediction probabilities\n",
        "y_pred_proba_prostate = model_LR_no_intercept.predict_proba(X_test_prostate)[:, 1]\n",
        "auc_roc = roc_auc_score(y_test_prostate, y_pred_proba_prostate)\n",
        "\n",
        "# Create a DataFrame with the metrics\n",
        "metrics_data = {\n",
        "    'Accuracy': [accuracy],\n",
        "    'Precision': [precision],\n",
        "    'Recall': [recall],\n",
        "    'F1': [f1],\n",
        "    'AUC-ROC': [auc_roc]\n",
        "}\n",
        "\n",
        "# Create the DataFrame\n",
        "base_metrics_df = pd.DataFrame(metrics_data, index=['Base Model'])\n",
        "\n",
        "# Display the metrics DataFrame\n",
        "display(base_metrics_df)"
      ]
    },
    {
      "cell_type": "code",
      "execution_count": null,
      "metadata": {
        "id": "dNhLnh6g6fZA"
      },
      "outputs": [],
      "source": [
        "# Calcular el VIF para cada columna\n",
        "VIF_vars = []\n",
        "\n",
        "for i in range(X_train_prostate.shape[1]):\n",
        "    vif = variance_inflation_factor(X_train_prostate.values, i)\n",
        "    VIF_vars.append(vif)\n",
        "\n",
        "print(\"VIF_vars =\", VIF_vars)"
      ]
    },
    {
      "cell_type": "code",
      "execution_count": null,
      "metadata": {
        "id": "B7uv4EQc6fZA"
      },
      "outputs": [],
      "source": [
        "# Crear DataFrame con los VIF\n",
        "vif_data = pd.DataFrame({\n",
        "    'Variable': ['lcavol', 'lweight', 'age', 'lbph', 'lcp', 'gleason', 'pgg45', 'lpsa'],\n",
        "    'VIF': VIF_vars\n",
        "})\n",
        "variables_low_vif = vif_data[vif_data['VIF'] <= 10]['Variable'].tolist()\n",
        "print(\"Variables con VIF <= 10:\", variables_low_vif)\n",
        "\n",
        "# Agregar una columna de constantes\n",
        "X_train_prostate = sm.add_constant(X_train_prostate)\n",
        "X_test_prostate = sm.add_constant(X_test_prostate)\n",
        "\n",
        "# Inicializar el modelo con todas las variables\n",
        "model = sm.Logit(y_train_prostate, X_train_prostate).fit()\n",
        "\n",
        "# Aplicar backward stepwise\n",
        "while True:\n",
        "    # Obtener el valor-p para cada variable\n",
        "    p_values = model.pvalues\n",
        "    # Identificar la variable con el valor-p más alto\n",
        "    max_p_value = p_values.max()\n",
        "    if max_p_value < 0.05:\n",
        "        break\n",
        "    # Eliminar la variable menos significativa\n",
        "    remove_var = p_values.idxmax()\n",
        "    X_train_prostate = X_train_prostate.drop(columns=[remove_var])\n",
        "    X_test_prostate = X_test_prostate.drop(columns=[remove_var])\n",
        "    # Ajustar el modelo con las variables restantes\n",
        "    model = sm.Logit(y_train_prostate, X_train_prostate).fit()\n",
        "\n",
        "# Realizar predicciones en el conjunto de prueba\n",
        "y_pred_prostate = model.predict(X_test_prostate) > 0.5\n",
        "porcentaje_clasificacion_backward = accuracy_score(y_test_prostate, y_pred_prostate)"
      ]
    },
    {
      "cell_type": "code",
      "execution_count": null,
      "metadata": {
        "id": "WqLJq4vG6fZA"
      },
      "outputs": [],
      "source": [
        "print(X_train_prostate.columns)\n",
        "\n",
        "# Calculate the classification accuracy\n",
        "accuracy = accuracy_score(y_test_prostate, y_pred_prostate)\n",
        "\n",
        "# Calculate additional metrics\n",
        "precision = precision_score(y_test_prostate, y_pred_prostate)\n",
        "recall = recall_score(y_test_prostate, y_pred_prostate)\n",
        "f1 = f1_score(y_test_prostate, y_pred_prostate)\n",
        "\n",
        "# For AUC-ROC, we need the prediction probabilities\n",
        "y_pred_proba_prostate = model.predict(X_test_prostate)\n",
        "auc_roc = roc_auc_score(y_test_prostate, y_pred_proba_prostate)\n",
        "\n",
        "# Create a DataFrame with the metrics\n",
        "metrics_data = {\n",
        "    'Accuracy': [accuracy],\n",
        "    'Precision': [precision],\n",
        "    'Recall': [recall],\n",
        "    'F1': [f1],\n",
        "    'AUC-ROC': [auc_roc]\n",
        "}\n",
        "\n",
        "# Create the DataFrame\n",
        "backward_metrics_df = pd.DataFrame(metrics_data, index=['Backward Selection Model'])\n",
        "\n",
        "display(backward_metrics_df)"
      ]
    },
    {
      "cell_type": "code",
      "execution_count": null,
      "metadata": {
        "id": "89mvXDDa6fZA"
      },
      "outputs": [],
      "source": [
        "df = pd.concat([base_metrics_df, backward_metrics_df])\n",
        "\n",
        "display(df)"
      ]
    },
    {
      "cell_type": "code",
      "execution_count": null,
      "metadata": {
        "id": "-unDfSFu6fZA"
      },
      "outputs": [],
      "source": [
        "from sklearn.metrics import confusion_matrix\n",
        "import seaborn as sns\n",
        "import matplotlib.pyplot as plt\n",
        "\n",
        "# Generate the confusion matrix\n",
        "conf_matrix = confusion_matrix(y_test_prostate, y_pred_prostate)\n",
        "\n",
        "# Plot the confusion matrix using Seaborn heatmap for better visualization\n",
        "plt.figure(figsize=(6, 4))\n",
        "sns.heatmap(conf_matrix, annot=True, fmt=\"d\", cmap=\"Blues\", cbar=False, xticklabels=[\"Negative\", \"Positive\"], yticklabels=[\"Negative\", \"Positive\"])\n",
        "plt.xlabel(\"Predicted\")\n",
        "plt.ylabel(\"Actual\")\n",
        "plt.title(\"Confusion Matrix - Logistic Regression\")\n",
        "plt.show()\n"
      ]
    }
  ],
  "metadata": {
    "kernelspec": {
      "display_name": "Python 3",
      "language": "python",
      "name": "python3"
    },
    "language_info": {
      "codemirror_mode": {
        "name": "ipython",
        "version": 3
      },
      "file_extension": ".py",
      "mimetype": "text/x-python",
      "name": "python",
      "nbconvert_exporter": "python",
      "pygments_lexer": "ipython3",
      "version": "3.12.2"
    },
    "colab": {
      "provenance": [],
      "include_colab_link": true
    }
  },
  "nbformat": 4,
  "nbformat_minor": 0
}